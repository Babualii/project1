{
 "cells": [
  {
   "cell_type": "code",
   "execution_count": 2,
   "id": "fce74af2-c2b4-4437-afc4-916a0489945b",
   "metadata": {},
   "outputs": [],
   "source": [
    "name = \"ALI\""
   ]
  },
  {
   "cell_type": "code",
   "execution_count": 3,
   "id": "7de510ba-0afa-4c8c-b2a5-19e2eb3048b8",
   "metadata": {},
   "outputs": [
    {
     "name": "stdout",
     "output_type": "stream",
     "text": [
      "ALI is currently cleaning data using excel\n"
     ]
    }
   ],
   "source": [
    "print(f\"{name} is currently cleaning data using excel\")"
   ]
  },
  {
   "cell_type": "code",
   "execution_count": null,
   "id": "5343a6d2-c2d9-40e4-9aeb-99daf2cd29d2",
   "metadata": {},
   "outputs": [],
   "source": []
  }
 ],
 "metadata": {
  "kernelspec": {
   "display_name": "Python 3 (ipykernel)",
   "language": "python",
   "name": "python3"
  },
  "language_info": {
   "codemirror_mode": {
    "name": "ipython",
    "version": 3
   },
   "file_extension": ".py",
   "mimetype": "text/x-python",
   "name": "python",
   "nbconvert_exporter": "python",
   "pygments_lexer": "ipython3",
   "version": "3.11.8"
  }
 },
 "nbformat": 4,
 "nbformat_minor": 5
}
